{
 "cells": [
  {
   "cell_type": "markdown",
   "metadata": {},
   "source": [
    "# In this notebook, you'll test the data_prep module\n",
    "\n",
    "\n",
    "You'll need the latest version of the **azureml-ai-ml** package to run the code in this notebook. Run the cell below to verify that it is installed."
   ]
  },
  {
   "cell_type": "markdown",
   "metadata": {},
   "source": [
    "## Setup\n",
    "\n",
    "This is important if you want to use your `.py` modules to create jobs, rather than writing your code directly in the notebook.\n",
    "\n",
    "\n"
   ]
  },
  {
   "cell_type": "code",
   "execution_count": 1,
   "metadata": {
    "gather": {
     "logged": 1722952327665
    },
    "jupyter": {
     "outputs_hidden": false,
     "source_hidden": false
    },
    "nteract": {
     "transient": {
      "deleting": false
     }
    }
   },
   "outputs": [
    {
     "name": "stdout",
     "output_type": "stream",
     "text": [
      "/anaconda/envs/condav0\n"
     ]
    }
   ],
   "source": [
    "import sys\n",
    "\n",
    "print(sys.prefix)"
   ]
  },
  {
   "attachments": {},
   "cell_type": "markdown",
   "metadata": {
    "nteract": {
     "transient": {
      "deleting": false
     }
    }
   },
   "source": [
    "## Connect to your workspace\n",
    "\n",
    "With the required SDK packages installed, now you're ready to connect to your workspace.\n",
    "\n",
    "To connect to a workspace, we need identifier parameters - a subscription ID, resource group name, and workspace name. Since you're working with a compute instance, managed by Azure Machine Learning, you can use the default values to connect to the workspace."
   ]
  },
  {
   "cell_type": "code",
   "execution_count": 2,
   "metadata": {
    "gather": {
     "logged": 1722952329956
    }
   },
   "outputs": [],
   "source": [
    "from azure.identity import DefaultAzureCredential, InteractiveBrowserCredential\n",
    "from azure.ai.ml import MLClient\n",
    "\n",
    "try:\n",
    "    credential = DefaultAzureCredential()\n",
    "    # Check if given credential can get token successfully.\n",
    "    credential.get_token(\"https://management.azure.com/.default\")\n",
    "except Exception as ex:\n",
    "    # Fall back to InteractiveBrowserCredential in case DefaultAzureCredential not work\n",
    "    credential = InteractiveBrowserCredential()"
   ]
  },
  {
   "cell_type": "code",
   "execution_count": 3,
   "metadata": {
    "gather": {
     "logged": 1722952330268
    }
   },
   "outputs": [
    {
     "name": "stderr",
     "output_type": "stream",
     "text": [
      "Found the config file in: /config.json\n"
     ]
    }
   ],
   "source": [
    "# Get a handle to workspace\n",
    "ml_client = MLClient.from_config(credential=credential)"
   ]
  },
  {
   "cell_type": "markdown",
   "metadata": {},
   "source": [
    "## Testing the Data Processing Pipeline"
   ]
  },
  {
   "cell_type": "code",
   "execution_count": 4,
   "metadata": {
    "gather": {
     "logged": 1722952330392
    },
    "jupyter": {
     "outputs_hidden": false,
     "source_hidden": false
    },
    "nteract": {
     "transient": {
      "deleting": false
     }
    }
   },
   "outputs": [],
   "source": [
    "import os\n",
    "import sys\n",
    "\n",
    "project_root_directory = os.getcwd().split(\"/notebooks\")[0]\n",
    "sys.path.insert(0, project_root_directory)"
   ]
  },
  {
   "cell_type": "code",
   "execution_count": 5,
   "metadata": {
    "gather": {
     "logged": 1722952331713
    },
    "jupyter": {
     "outputs_hidden": false,
     "source_hidden": false
    },
    "nteract": {
     "transient": {
      "deleting": false
     }
    }
   },
   "outputs": [],
   "source": [
    "from core.data_preparation.config import FeatureEngineeringConfig, MethodConfig\n",
    "from core.data_preparation.pipeline import DataPrepPipelineBuilder\n",
    "import pandas as pd"
   ]
  },
  {
   "cell_type": "code",
   "execution_count": 6,
   "metadata": {
    "gather": {
     "logged": 1722952331812
    }
   },
   "outputs": [],
   "source": [
    "# Create the MLPipelineConfig object\n",
    "config = FeatureEngineeringConfig(\n",
    "    data_preparation_steps=[\n",
    "        MethodConfig(name=\"sklearn.preprocessing.Normalizer\", params=dict(norm=\"l2\")),\n",
    "        MethodConfig(\n",
    "            name=\"core.data_preparation.pipeline.DropColumns\",\n",
    "            params=dict(columns=\"Selfi_Cam\"),\n",
    "        ),\n",
    "    ],\n",
    ")"
   ]
  },
  {
   "cell_type": "markdown",
   "metadata": {
    "nteract": {
     "transient": {
      "deleting": false
     }
    }
   },
   "source": [
    "removing the normalizer just for testing purposes "
   ]
  },
  {
   "cell_type": "code",
   "execution_count": 7,
   "metadata": {
    "gather": {
     "logged": 1722952331901
    },
    "jupyter": {
     "outputs_hidden": false,
     "source_hidden": false
    },
    "nteract": {
     "transient": {
      "deleting": false
     }
    }
   },
   "outputs": [],
   "source": [
    "# Create the MLPipelineConfig object\n",
    "config = FeatureEngineeringConfig(\n",
    "    data_preparation_steps=[\n",
    "        MethodConfig(\n",
    "            name=\"core.data_preparation.pipeline.DropColumns\",\n",
    "            params=dict(columns=\"Selfi_Cam\"),\n",
    "        )\n",
    "    ],\n",
    ")"
   ]
  },
  {
   "cell_type": "markdown",
   "metadata": {},
   "source": [
    "or"
   ]
  },
  {
   "cell_type": "code",
   "execution_count": 8,
   "metadata": {
    "gather": {
     "logged": 1722952331985
    }
   },
   "outputs": [],
   "source": [
    "# model_training_config_file = 'path'\n",
    "# model_training_config = FeatureEngineeringConfig.load_from_yaml(model_training_config_file)"
   ]
  },
  {
   "cell_type": "code",
   "execution_count": 10,
   "metadata": {
    "gather": {
     "logged": 1722952388065
    },
    "jupyter": {
     "outputs_hidden": false,
     "source_hidden": false
    },
    "nteract": {
     "transient": {
      "deleting": false
     }
    }
   },
   "outputs": [
    {
     "name": "stderr",
     "output_type": "stream",
     "text": [
      "INFO:azure.identity._internal.get_token_mixin:AzureMLCredential.get_token succeeded\n",
      "INFO:azure.identity._internal.decorators:ManagedIdentityCredential.get_token succeeded\n",
      "INFO:azure.identity._credentials.default:DefaultAzureCredential acquired a token from ManagedIdentityCredential\n",
      "INFO:azure.identity._credentials.environment:No environment configuration found.\n",
      "INFO:azure.identity._credentials.managed_identity:ManagedIdentityCredential will use Azure ML managed identity\n",
      "INFO:azure.identity._credentials.chained:DefaultAzureCredential acquired a token from ManagedIdentityCredential\n",
      "INFO:azure.identity._internal.get_token_mixin:AzureMLCredential.get_token succeeded\n",
      "INFO:azure.identity._internal.decorators:ManagedIdentityCredential.get_token succeeded\n",
      "INFO:azure.identity._credentials.default:DefaultAzureCredential acquired a token from ManagedIdentityCredential\n",
      "INFO:azure.identity._credentials.environment:No environment configuration found.\n",
      "INFO:azure.identity._credentials.managed_identity:ManagedIdentityCredential will use Azure ML managed identity\n",
      "INFO:azure.identity._credentials.chained:DefaultAzureCredential acquired a token from ManagedIdentityCredential\n",
      "INFO:azure.identity._internal.get_token_mixin:AzureMLCredential.get_token succeeded\n",
      "INFO:azure.identity._internal.decorators:ManagedIdentityCredential.get_token succeeded\n",
      "INFO:azure.identity._credentials.default:DefaultAzureCredential acquired a token from ManagedIdentityCredential\n",
      "INFO:azure.identity._credentials.environment:No environment configuration found.\n",
      "INFO:azure.identity._credentials.managed_identity:ManagedIdentityCredential will use Azure ML managed identity\n",
      "INFO:azure.identity._credentials.chained:DefaultAzureCredential acquired a token from ManagedIdentityCredential\n",
      "INFO:azure.identity._internal.get_token_mixin:AzureMLCredential.get_token succeeded\n",
      "INFO:azure.identity._internal.decorators:ManagedIdentityCredential.get_token succeeded\n",
      "INFO:azure.identity._credentials.default:DefaultAzureCredential acquired a token from ManagedIdentityCredential\n"
     ]
    },
    {
     "data": {
      "text/html": [
       "<div>\n",
       "<style scoped>\n",
       "    .dataframe tbody tr th:only-of-type {\n",
       "        vertical-align: middle;\n",
       "    }\n",
       "\n",
       "    .dataframe tbody tr th {\n",
       "        vertical-align: top;\n",
       "    }\n",
       "\n",
       "    .dataframe thead th {\n",
       "        text-align: right;\n",
       "    }\n",
       "</style>\n",
       "<table border=\"1\" class=\"dataframe\">\n",
       "  <thead>\n",
       "    <tr style=\"text-align: right;\">\n",
       "      <th></th>\n",
       "      <th>Ratings</th>\n",
       "      <th>RAM</th>\n",
       "      <th>ROM</th>\n",
       "      <th>Mobile_Size</th>\n",
       "      <th>Primary_Cam</th>\n",
       "      <th>Selfi_Cam</th>\n",
       "      <th>Battery_Power</th>\n",
       "      <th>Price</th>\n",
       "    </tr>\n",
       "  </thead>\n",
       "  <tbody>\n",
       "    <tr>\n",
       "      <th>0</th>\n",
       "      <td>4.3</td>\n",
       "      <td>4.0</td>\n",
       "      <td>128.0</td>\n",
       "      <td>6.00</td>\n",
       "      <td>48</td>\n",
       "      <td>13.0</td>\n",
       "      <td>4000</td>\n",
       "      <td>24999</td>\n",
       "    </tr>\n",
       "    <tr>\n",
       "      <th>1</th>\n",
       "      <td>3.4</td>\n",
       "      <td>6.0</td>\n",
       "      <td>64.0</td>\n",
       "      <td>4.50</td>\n",
       "      <td>48</td>\n",
       "      <td>12.0</td>\n",
       "      <td>4000</td>\n",
       "      <td>15999</td>\n",
       "    </tr>\n",
       "    <tr>\n",
       "      <th>2</th>\n",
       "      <td>4.3</td>\n",
       "      <td>4.0</td>\n",
       "      <td>4.0</td>\n",
       "      <td>4.50</td>\n",
       "      <td>64</td>\n",
       "      <td>16.0</td>\n",
       "      <td>4000</td>\n",
       "      <td>15000</td>\n",
       "    </tr>\n",
       "    <tr>\n",
       "      <th>3</th>\n",
       "      <td>4.4</td>\n",
       "      <td>6.0</td>\n",
       "      <td>64.0</td>\n",
       "      <td>6.40</td>\n",
       "      <td>48</td>\n",
       "      <td>15.0</td>\n",
       "      <td>3800</td>\n",
       "      <td>18999</td>\n",
       "    </tr>\n",
       "    <tr>\n",
       "      <th>4</th>\n",
       "      <td>4.5</td>\n",
       "      <td>6.0</td>\n",
       "      <td>128.0</td>\n",
       "      <td>6.18</td>\n",
       "      <td>35</td>\n",
       "      <td>15.0</td>\n",
       "      <td>3800</td>\n",
       "      <td>18999</td>\n",
       "    </tr>\n",
       "  </tbody>\n",
       "</table>\n",
       "</div>"
      ],
      "text/plain": [
       "   Ratings  RAM    ROM  Mobile_Size  Primary_Cam  Selfi_Cam  Battery_Power  \\\n",
       "0      4.3  4.0  128.0         6.00           48       13.0           4000   \n",
       "1      3.4  6.0   64.0         4.50           48       12.0           4000   \n",
       "2      4.3  4.0    4.0         4.50           64       16.0           4000   \n",
       "3      4.4  6.0   64.0         6.40           48       15.0           3800   \n",
       "4      4.5  6.0  128.0         6.18           35       15.0           3800   \n",
       "\n",
       "   Price  \n",
       "0  24999  \n",
       "1  15999  \n",
       "2  15000  \n",
       "3  18999  \n",
       "4  18999  "
      ]
     },
     "execution_count": 10,
     "metadata": {},
     "output_type": "execute_result"
    }
   ],
   "source": [
    "import mltable\n",
    "\n",
    "registered_data_asset = ml_client.data.get(name=\"mobile-price-table\", version=1)\n",
    "tbl = mltable.load(f\"azureml:/{registered_data_asset.id}\")\n",
    "df = tbl.to_pandas_dataframe()\n",
    "df.head(5)"
   ]
  },
  {
   "cell_type": "code",
   "execution_count": null,
   "metadata": {
    "gather": {
     "logged": 1722952332466
    }
   },
   "outputs": [],
   "source": [
    "pipeline_builder = DataPrepPipelineBuilder(config)\n",
    "pipeline = pipeline_builder.get_pipeline()\n",
    "X_transformed = pipeline.transform(df)\n",
    "print(X_transformed)"
   ]
  },
  {
   "cell_type": "markdown",
   "metadata": {},
   "source": [
    "\n",
    "\n",
    "\n",
    "## Checking for existing de env\n",
    "\n",
    "Let's explore the environments within the workspace.\n",
    "\n",
    "\n",
    "> **Note**:\n",
    "> If the **azure-ai-ml** package is not installed, run `pip install azure-ai-ml` to install it."
   ]
  },
  {
   "cell_type": "code",
   "execution_count": null,
   "metadata": {
    "gather": {
     "logged": 1722952332471
    }
   },
   "outputs": [],
   "source": [
    "envs = ml_client.environments.list()\n",
    "for env in envs:\n",
    "    print(env.name)"
   ]
  },
  {
   "cell_type": "markdown",
   "metadata": {},
   "source": [
    "Submitting the job with the new custom environment triggers the build of the environment. The first time you use a newly created environment, it can take 10-15 minutes to build the environment, which also means your job will take longer to complete.\n",
    "You can also choose to manually trigger the build of the environment before you submit a job. The environment only needs to be built the first time you use it."
   ]
  },
  {
   "attachments": {},
   "cell_type": "markdown",
   "metadata": {
    "nteract": {
     "transient": {
      "deleting": false
     }
    }
   },
   "source": [
    "## Creating a job to use a data asset\n",
    "\n",
    "After using a notebook for experimentation. You can use scripts to train machine learning models. A script can be run as a job, and for each job you can specify inputs and outputs. \n",
    "\n",
    "You can use either **data assets** or **datastore paths** as inputs or outputs of a job. \n",
    "\n",
    "The cells below creates the **move-data.py** script in the **src** folder. The script reads the input data with the `read_csv()` function. The script then stores the data as a CSV file in the output path."
   ]
  },
  {
   "cell_type": "markdown",
   "metadata": {
    "nteract": {
     "transient": {
      "deleting": false
     }
    }
   },
   "source": []
  },
  {
   "attachments": {},
   "cell_type": "markdown",
   "metadata": {},
   "source": [
    "To submit a job that runs the **custom_job.py** script, run the cell below. \n",
    "\n",
    "The job is configured to use the data asset `diabetes-local`, pointing to the local **mobile-price-local.csv** file as input. The output is a path pointing to a folder in the new datastore `blob_mobileprice_cleaned`."
   ]
  },
  {
   "cell_type": "code",
   "execution_count": null,
   "metadata": {
    "jupyter": {
     "outputs_hidden": false,
     "source_hidden": false
    },
    "nteract": {
     "transient": {
      "deleting": false
     }
    }
   },
   "outputs": [],
   "source": [
    "%%writefile ../main.py\n",
    "\n",
    "import sys\n",
    "import os\n",
    "\n",
    "# Add the parent directory to sys.path\n",
    "current_path = os.path.dirname(os.path.abspath(__file__))\n",
    "sys.path.insert(0, current_path + \"/ml-core-template/\")\n",
    "\n",
    "print(sys.path)\n",
    "\n",
    "from core.data_preparation.config import FeatureEngineeringConfig, MethodConfig\n",
    "from core.data_preparation.pipeline import DataPrepPipelineBuilder\n",
    "from azure_module.data_loader import DataLoader\n",
    "\n",
    "\n",
    "data_loader = DataLoader()\n",
    "data_loader.parse_input_arg()\n",
    "data_loader.parse_output_arg()\n",
    "df = data_loader.get_data()\n",
    "\n",
    "\n",
    "config = FeatureEngineeringConfig(\n",
    "    data_preparation_steps=[MethodConfig(name='core.data_preparation.pipeline.DropColumns', params=dict(columns='Selfi_Cam'))],\n",
    "    \n",
    ")\n",
    "\n",
    "pipeline_builder = DataPrepPipelineBuilder(config)\n",
    "pipeline = pipeline_builder.get_pipeline()\n",
    "X_transformed = pipeline.transform(df)\n",
    "\n",
    "\n",
    "data_loader.save_data(X_transformed, filename=\"load_outside_job.csv\")"
   ]
  },
  {
   "cell_type": "code",
   "execution_count": null,
   "metadata": {
    "gather": {
     "logged": 1722952332477
    },
    "jupyter": {
     "outputs_hidden": false,
     "source_hidden": false
    },
    "nteract": {
     "transient": {
      "deleting": false
     }
    }
   },
   "outputs": [],
   "source": [
    "envs = ml_client.environments.list()\n",
    "for env in envs:\n",
    "    print(env.name)"
   ]
  },
  {
   "cell_type": "code",
   "execution_count": null,
   "metadata": {
    "gather": {
     "logged": 1722952332482
    },
    "jupyter": {
     "outputs_hidden": false,
     "source_hidden": false
    },
    "nteract": {
     "transient": {
      "deleting": false
     }
    }
   },
   "outputs": [],
   "source": [
    "from azure.ai.ml import Input, Output\n",
    "from azure.ai.ml.constants import AssetTypes\n",
    "from azure.ai.ml import command\n",
    "\n",
    "# configure input and output\n",
    "my_job_inputs = {\n",
    "    \"local_data\": Input(type=AssetTypes.URI_FILE, path=\"azureml:mobile-price-local:1\")\n",
    "}\n",
    "\n",
    "my_job_outputs = {\n",
    "    \"datastore_data\": Output(\n",
    "        type=AssetTypes.URI_FOLDER,\n",
    "        path=\"azureml://datastores/blob_mobileprice_cleaned/paths/datastore-path\",\n",
    "    )\n",
    "}\n",
    "\n",
    "# configure job\n",
    "job = command(\n",
    "    code=\"../\",\n",
    "    command=\"python main.py --input_data ${{inputs.local_data}} --output_datastore ${{outputs.datastore_data}}\",\n",
    "    inputs=my_job_inputs,\n",
    "    outputs=my_job_outputs,\n",
    "    environment=\"docker-context-repo-based-v1:1\",\n",
    "    compute=\"sandbox-ci\",\n",
    "    display_name=\"test\",\n",
    "    experiment_name=\"test\",\n",
    ")\n",
    "\n",
    "# submit job\n",
    "returned_job = ml_client.create_or_update(job)\n",
    "aml_url = returned_job.studio_url\n",
    "print(\"Monitor the job at\", aml_url)"
   ]
  },
  {
   "cell_type": "markdown",
   "metadata": {
    "nteract": {
     "transient": {
      "deleting": false
     }
    }
   },
   "source": [
    "### We can also load the data 'inside' the job itself\""
   ]
  },
  {
   "cell_type": "code",
   "execution_count": null,
   "metadata": {
    "jupyter": {
     "outputs_hidden": false,
     "source_hidden": false
    },
    "nteract": {
     "transient": {
      "deleting": false
     }
    }
   },
   "outputs": [],
   "source": [
    "%%writefile ../main.py\n",
    "\n",
    "import sys\n",
    "import os\n",
    "\n",
    "# Add the parent directory to sys.path\n",
    "current_path = os.path.dirname(os.path.abspath(__file__))\n",
    "sys.path.insert(0, current_path + \"/ml-core-template/\")\n",
    "\n",
    "\n",
    "from core.data_preparation.config import FeatureEngineeringConfig, MethodConfig\n",
    "from core.data_preparation.pipeline import DataPrepPipelineBuilder\n",
    "from azure_module.data_loader import DataLoader\n",
    "\n",
    "\n",
    "import mltable\n",
    "\n",
    "data_loader = DataLoader()\n",
    "data_loader.parse_output_arg()\n",
    "\n",
    "tbl = mltable.load(f\"azureml://.....path...\")\n",
    "df = tbl.to_pandas_dataframe()\n",
    "\n",
    "\n",
    "config = FeatureEngineeringConfig(\n",
    "    data_preparation_steps=[MethodConfig(name='core.data_preparation.pipeline.DropColumns', params=dict(columns='Selfi_Cam'))],\n",
    "    \n",
    ")\n",
    "\n",
    "pipeline_builder = DataPrepPipelineBuilder(config)\n",
    "pipeline = pipeline_builder.get_pipeline()\n",
    "X_transformed = pipeline.transform(df)\n",
    "\n",
    "\n",
    "data_loader.save_data(X_transformed, filename=\"load_inside_job.csv\")"
   ]
  },
  {
   "cell_type": "code",
   "execution_count": null,
   "metadata": {
    "gather": {
     "logged": 1722952332492
    },
    "jupyter": {
     "outputs_hidden": false,
     "source_hidden": false
    },
    "nteract": {
     "transient": {
      "deleting": false
     }
    }
   },
   "outputs": [],
   "source": [
    "from azure.ai.ml import Input, Output\n",
    "from azure.ai.ml.constants import AssetTypes\n",
    "from azure.ai.ml import command\n",
    "\n",
    "# configure input and output\n",
    "\n",
    "my_job_outputs = {\n",
    "    \"datastore_data\": Output(\n",
    "        type=AssetTypes.URI_FOLDER,\n",
    "        path=\"azureml://datastores/blob_mobileprice_cleaned/paths/datastore-path\",\n",
    "    )\n",
    "}\n",
    "\n",
    "# configure job\n",
    "job = command(\n",
    "    code=\"../\",\n",
    "    command=\"python main.py --output_datastore ${{outputs.datastore_data}}\",\n",
    "    outputs=my_job_outputs,\n",
    "    environment=\"docker-context-repo-based-v1:1\",\n",
    "    compute=\"sandbox-ci\",\n",
    "    display_name=\"test\",\n",
    "    experiment_name=\"test\",\n",
    ")\n",
    "\n",
    "# submit job\n",
    "returned_job = ml_client.create_or_update(job)\n",
    "aml_url = returned_job.studio_url\n",
    "print(\"Monitor the job at\", aml_url)"
   ]
  },
  {
   "cell_type": "code",
   "execution_count": null,
   "metadata": {
    "jupyter": {
     "outputs_hidden": false,
     "source_hidden": false
    },
    "nteract": {
     "transient": {
      "deleting": false
     }
    }
   },
   "outputs": [],
   "source": []
  }
 ],
 "metadata": {
  "kernel_info": {
   "name": "condav0"
  },
  "kernelspec": {
   "display_name": "condav0",
   "language": "python",
   "name": "condav0"
  },
  "language_info": {
   "codemirror_mode": {
    "name": "ipython",
    "version": 3
   },
   "file_extension": ".py",
   "mimetype": "text/x-python",
   "name": "python",
   "nbconvert_exporter": "python",
   "pygments_lexer": "ipython3",
   "version": "3.12.4"
  },
  "microsoft": {
   "host": {
    "AzureML": {
     "notebookHasBeenCompleted": true
    }
   },
   "ms_spell_check": {
    "ms_spell_check_language": "en"
   }
  },
  "nteract": {
   "version": "nteract-front-end@1.0.0"
  }
 },
 "nbformat": 4,
 "nbformat_minor": 2
}
